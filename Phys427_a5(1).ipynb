{
 "cells": [
  {
   "cell_type": "markdown",
   "metadata": {},
   "source": [
    "Phys 427\n",
    "Assignment 5(1)\n",
    "\n",
    "Kai Jin\n",
    "\n",
    "I only test this file with integers"
   ]
  },
  {
   "cell_type": "code",
   "execution_count": 1,
   "metadata": {},
   "outputs": [],
   "source": [
    "import uproot\n",
    "import matplotlib.pyplot as plt\n",
    "import numpy as np"
   ]
  },
  {
   "cell_type": "code",
   "execution_count": 2,
   "metadata": {},
   "outputs": [],
   "source": [
    "#Get data from the root file\n",
    "file = uproot.open(\"./4lep/Data/data_A.4lep.root\")[b'mini;1']"
   ]
  },
  {
   "cell_type": "code",
   "execution_count": 3,
   "metadata": {},
   "outputs": [
    {
     "data": {
      "text/plain": [
       "[b'runNumber',\n",
       " b'eventNumber',\n",
       " b'channelNumber',\n",
       " b'mcWeight',\n",
       " b'scaleFactor_PILEUP',\n",
       " b'scaleFactor_ELE',\n",
       " b'scaleFactor_MUON',\n",
       " b'scaleFactor_PHOTON',\n",
       " b'scaleFactor_TAU',\n",
       " b'scaleFactor_BTAG',\n",
       " b'scaleFactor_LepTRIGGER',\n",
       " b'scaleFactor_PhotonTRIGGER',\n",
       " b'trigE',\n",
       " b'trigM',\n",
       " b'trigP',\n",
       " b'lep_n',\n",
       " b'lep_truthMatched',\n",
       " b'lep_trigMatched',\n",
       " b'lep_pt',\n",
       " b'lep_eta',\n",
       " b'lep_phi',\n",
       " b'lep_E',\n",
       " b'lep_z0',\n",
       " b'lep_charge',\n",
       " b'lep_type',\n",
       " b'lep_isTightID',\n",
       " b'lep_ptcone30',\n",
       " b'lep_etcone20',\n",
       " b'lep_trackd0pvunbiased',\n",
       " b'lep_tracksigd0pvunbiased',\n",
       " b'met_et',\n",
       " b'met_phi',\n",
       " b'jet_n',\n",
       " b'jet_pt',\n",
       " b'jet_eta',\n",
       " b'jet_phi',\n",
       " b'jet_E',\n",
       " b'jet_jvt',\n",
       " b'jet_trueflav',\n",
       " b'jet_truthMatched',\n",
       " b'jet_MV2c10',\n",
       " b'photon_n',\n",
       " b'photon_truthMatched',\n",
       " b'photon_trigMatched',\n",
       " b'photon_pt',\n",
       " b'photon_eta',\n",
       " b'photon_phi',\n",
       " b'photon_E',\n",
       " b'photon_isTightID',\n",
       " b'photon_ptcone30',\n",
       " b'photon_etcone20',\n",
       " b'photon_convType',\n",
       " b'tau_n',\n",
       " b'tau_pt',\n",
       " b'tau_eta',\n",
       " b'tau_phi',\n",
       " b'tau_E',\n",
       " b'tau_isTightID',\n",
       " b'tau_truthMatched',\n",
       " b'tau_trigMatched',\n",
       " b'tau_nTracks',\n",
       " b'tau_BDTid',\n",
       " b'ditau_m',\n",
       " b'lep_pt_syst',\n",
       " b'met_et_syst',\n",
       " b'jet_pt_syst',\n",
       " b'photon_pt_syst',\n",
       " b'tau_pt_syst',\n",
       " b'XSection',\n",
       " b'SumWeights',\n",
       " b'largeRjet_n',\n",
       " b'largeRjet_pt',\n",
       " b'largeRjet_eta',\n",
       " b'largeRjet_phi',\n",
       " b'largeRjet_E',\n",
       " b'largeRjet_m',\n",
       " b'largeRjet_truthMatched',\n",
       " b'largeRjet_D2',\n",
       " b'largeRjet_tau32',\n",
       " b'largeRjet_pt_syst',\n",
       " b'tau_charge']"
      ]
     },
     "execution_count": 3,
     "metadata": {},
     "output_type": "execute_result"
    }
   ],
   "source": [
    "#Show keys and help to find the key we want\n",
    "file.keys()"
   ]
  },
  {
   "cell_type": "code",
   "execution_count": 4,
   "metadata": {},
   "outputs": [
    {
     "data": {
      "text/plain": [
       "array([4, 4, 4, 4, 4, 4, 4, 4, 4, 4, 4, 4, 4, 4, 4, 4, 4, 4, 4, 4, 4, 4,\n",
       "       4, 4, 4, 4, 4, 4, 4, 4, 4, 4, 4, 4, 4, 4, 4, 4, 4], dtype=uint32)"
      ]
     },
     "execution_count": 4,
     "metadata": {},
     "output_type": "execute_result"
    }
   ],
   "source": [
    "#Get data and transfer them into an array\n",
    "num_lep = file.array(b'lep_n')\n",
    "num_lep"
   ]
  },
  {
   "cell_type": "code",
   "execution_count": 5,
   "metadata": {},
   "outputs": [],
   "source": [
    "#Locate a rectangle by its canter in histogram\n",
    "def bins_labels(bins, **kwargs):\n",
    "    bin_w = (max(bins) - min(bins)) / (len(bins) - 1)\n",
    "    plt.xticks(np.arange(min(bins)+bin_w/2, max(bins), bin_w), bins, **kwargs)\n",
    "    plt.xlim(bins[0], bins[-1])"
   ]
  },
  {
   "cell_type": "code",
   "execution_count": 6,
   "metadata": {},
   "outputs": [
    {
     "data": {
      "image/png": "[encoded data removed]",
      "text/plain": [
       "<Figure size 432x288 with 1 Axes>"
      ]
     },
     "metadata": {
      "needs_background": "light"
     },
     "output_type": "display_data"
    }
   ],
   "source": [
    "#Plot a histogram\n",
    "#Make a range of x-axis\n",
    "bins = range(0,10)\n",
    "\n",
    "plt.hist(num_lep, bins=bins, edgecolor='black')\n",
    "bins_labels(bins, fontsize=20)\n",
    "plt.title('Histogram for numbers of lepton')\n",
    "plt.xlabel('Number of laptons')\n",
    "plt.ylabel('Events')\n",
    "plt.show()"
   ]
  },
  {
   "cell_type": "code",
   "execution_count": 7,
   "metadata": {},
   "outputs": [
    {
     "data": {
      "image/png": "[encoded data removed]",
      "text/plain": [
       "<Figure size 432x288 with 1 Axes>"
      ]
     },
     "metadata": {
      "needs_background": "light"
     },
     "output_type": "display_data"
    }
   ],
   "source": [
    "bins = range(2,7)\n",
    "#Get enough information to calcualte error bars\n",
    "y, binEdges, _ = plt.hist(num_lep, bins=bins, density=True)\n",
    "\n",
    "bins_labels(bins, fontsize=20)\n",
    "#Calculate canter of error bar\n",
    "bincenters = 0.5*(binEdges[1:]+binEdges[:-1])\n",
    "\n",
    "#calculate error bar value\n",
    "menStd = np.sqrt(y)\n",
    "\n",
    "plt.bar(bincenters, y, xerr=menStd)\n",
    "plt.title('Histogram for numbers of lepton')\n",
    "plt.xlabel('Number of laptons')\n",
    "plt.ylabel('Events')\n",
    "plt.show()"
   ]
  },
  {
   "cell_type": "code",
   "execution_count": null,
   "metadata": {},
   "outputs": [],
   "source": []
  }
 ],
 "metadata": {
  "kernelspec": {
   "display_name": "Python 3",
   "language": "python",
   "name": "python3"
  },
  "language_info": {
   "codemirror_mode": {
    "name": "ipython",
    "version": 3
   },
   "file_extension": ".py",
   "mimetype": "text/x-python",
   "name": "python",
   "nbconvert_exporter": "python",
   "pygments_lexer": "ipython3",
   "version": "3.7.4"
  }
 },
 "nbformat": 4,
 "nbformat_minor": 2
}
