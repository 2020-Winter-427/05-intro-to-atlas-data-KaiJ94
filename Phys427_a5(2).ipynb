{
 "cells": [
  {
   "cell_type": "markdown",
   "metadata": {},
   "source": [
    "Phys427 a5 \n",
    "Kai Jin\n",
    "\n",
    "4-Vactor\n",
    "\n",
    "In special relativity, a four-vector (also known as a 4-vector) is an object with four components, which transform in a specific way under Lorentz transformation. Specifically, a four-vector is an element of a four-dimensional vector space considered as a representation space of the standard representation of the Lorentz group, the (½,½) representation.\n",
    "\n",
    "The basic idea behind Lorentz transformation was to get form invariance of spacetime laws of physics when transformed from one frame of reference to another moving with constant velocity v.\n",
    "\n",
    "Invariant mass\n",
    "\n",
    "The invariant mass, rest mass, intrinsic mass, proper mass, or in the case of bound systems simply mass, is the portion of the total mass of an object or system of objects that is independent of the overall motion of the system. More precisely, it is a characteristic of the system's total energy and momentum that is the same in all frames of reference related by Lorentz transformations."
   ]
  },
  {
   "cell_type": "code",
   "execution_count": 1,
   "metadata": {},
   "outputs": [],
   "source": [
    "import uproot\n",
    "import uproot_methods as upm\n",
    "import matplotlib.pyplot as plt\n",
    "import awkward as awk\n",
    "import math"
   ]
  },
  {
   "cell_type": "code",
   "execution_count": 2,
   "metadata": {},
   "outputs": [],
   "source": [
    "#Open root file\n",
    "#Real data\n",
    "file = uproot.open(\"./4lep/Data/data_A.4lep.root\")"
   ]
  },
  {
   "cell_type": "code",
   "execution_count": 3,
   "metadata": {},
   "outputs": [
    {
     "data": {
      "text/plain": [
       "[b'mini;1']"
      ]
     },
     "execution_count": 3,
     "metadata": {},
     "output_type": "execute_result"
    }
   ],
   "source": [
    "#Determine name of root tree\n",
    "file.keys()"
   ]
  },
  {
   "cell_type": "code",
   "execution_count": 4,
   "metadata": {},
   "outputs": [],
   "source": [
    "#Get root tree\n",
    "tree = file.get('mini')"
   ]
  },
  {
   "cell_type": "code",
   "execution_count": 5,
   "metadata": {},
   "outputs": [],
   "source": [
    "#Calculate square of magnitude of LorentzVector and square root it\n",
    "def Mag(v):\n",
    "    Mag2 = v.dot(v)\n",
    "    if (Mag2<0.0):\n",
    "        Mag = -(-Mag2)**0.5\n",
    "    else:\n",
    "        Mag = (Mag2)**0.5\n",
    "    return Mag"
   ]
  },
  {
   "cell_type": "code",
   "execution_count": 6,
   "metadata": {},
   "outputs": [],
   "source": [
    "#Calculate invariant mass free specific tree file\n",
    "def cal_invmass(tree):\n",
    "    #Initial variables and its values\n",
    "    leadLepton = upm.TLorentzVector(0,0,0,0)\n",
    "    trailLepton = upm.TLorentzVector(0,0,0,0)\n",
    "    invmass = []\n",
    "    \n",
    "    lep_n = tree['lep_n'].array()\n",
    "    lep_charge = tree['lep_charge'].array()\n",
    "    lep_type = tree['lep_type'].array()\n",
    "    lep_pt = tree.array('lep_pt')\n",
    "    lep_eta = tree.array('lep_eta')\n",
    "    lep_phi = tree.array('lep_phi')\n",
    "    lep_E = tree.array('lep_E')\n",
    "    \n",
    "    for i in range(len(tree)):\n",
    "        \n",
    "        # Cut #1: At least 2 leptons\n",
    "        if lep_n[i] >= 2:\n",
    "            \n",
    "            # Cut #2: Leptons with opposite charge\n",
    "            if (lep_charge[i][0] != lep_charge[i][1]):\n",
    "                \n",
    "                # Cut #3: Leptons of the same family (2 electrons or 2 muons)\n",
    "                if (lep_type[i][0] == lep_type[i][1]):\n",
    "                    \n",
    "                    # Define one TLorentz vector for each\n",
    "                    leadLepton.x = lep_pt[i][0]/1000. * math.cos(lep_phi[i][0])\n",
    "                    leadLepton.y = lep_pt[i][0]/1000. * math.sin(lep_phi[i][0])\n",
    "                    leadLepton.z = lep_pt[i][0]/1000. * math.sinh(lep_eta[i][0])\n",
    "                    leadLepton.t = lep_E[i][0]/1000.\n",
    "                    \n",
    "                    trailLepton.x = lep_pt[i][1]/1000. * math.cos(lep_phi[i][1])\n",
    "                    trailLepton.y = lep_pt[i][1]/1000. * math.sin(lep_phi[i][1])\n",
    "                    trailLepton.z = lep_pt[i][1]/1000. * math.sinh(lep_eta[i][1])\n",
    "                    trailLepton.t = lep_E[i][1]/1000.\n",
    "                    \n",
    "                    # Addition of two TLorentz vectors above and calculate invariant mass\n",
    "                    invmass.append(Mag(leadLepton + trailLepton))\n",
    "                    \n",
    "    return invmass"
   ]
  },
  {
   "cell_type": "code",
   "execution_count": 7,
   "metadata": {},
   "outputs": [],
   "source": [
    "#Get invariant mass\n",
    "invmass = cal_invmass(tree)"
   ]
  },
  {
   "cell_type": "code",
   "execution_count": 8,
   "metadata": {},
   "outputs": [],
   "source": [
    "#Draw a histogram graph\n",
    "def draw(data):\n",
    "    plt.hist(data, 30, range=[40, 140], edgecolor='black')\n",
    "    plt.xlabel('mass [GeV]')\n",
    "    plt.ylabel('events')\n",
    "    plt.xlim(40, 140)\n",
    "    plt.title('Mass of the Z boson')"
   ]
  },
  {
   "cell_type": "code",
   "execution_count": 9,
   "metadata": {},
   "outputs": [
    {
     "data": {
      "image/png": "[encoded data removed]",
      "text/plain": [
       "<Figure size 432x288 with 1 Axes>"
      ]
     },
     "metadata": {
      "needs_background": "light"
     },
     "output_type": "display_data"
    }
   ],
   "source": [
    "draw(invmass)"
   ]
  },
  {
   "cell_type": "code",
   "execution_count": 10,
   "metadata": {},
   "outputs": [],
   "source": [
    "## 2lep 13 TeV sample\n",
    "file = uproot.open(\"https://atlas-opendata.web.cern.ch/atlas-opendata/samples/2020/1largeRjet1lep/MC/mc_361106.Zee.1largeRjet1lep.root\")\n",
    "tree2 = file.get('mini')"
   ]
  },
  {
   "cell_type": "code",
   "execution_count": 11,
   "metadata": {},
   "outputs": [],
   "source": [
    "invmass2 = cal_invmass(tree2)"
   ]
  },
  {
   "cell_type": "code",
   "execution_count": 12,
   "metadata": {},
   "outputs": [
    {
     "data": {
      "image/png": "[encoded data removed]",
      "text/plain": [
       "<Figure size 432x288 with 1 Axes>"
      ]
     },
     "metadata": {
      "needs_background": "light"
     },
     "output_type": "display_data"
    }
   ],
   "source": [
    "draw(invmass2)"
   ]
  },
  {
   "cell_type": "code",
   "execution_count": 13,
   "metadata": {},
   "outputs": [],
   "source": [
    "## 4lepton 13 TeV sample\n",
    "file = uproot.open(\"./mc_363490.llll.4lep.root\")\n",
    "tree3 = file.get('mini')"
   ]
  },
  {
   "cell_type": "code",
   "execution_count": 14,
   "metadata": {},
   "outputs": [],
   "source": [
    "invmass3 = cal_invmass(tree3)"
   ]
  },
  {
   "cell_type": "code",
   "execution_count": 15,
   "metadata": {},
   "outputs": [
    {
     "data": {
      "image/png": "[encoded data removed]",
      "text/plain": [
       "<Figure size 432x288 with 1 Axes>"
      ]
     },
     "metadata": {
      "needs_background": "light"
     },
     "output_type": "display_data"
    }
   ],
   "source": [
    "draw(invmass3)"
   ]
  },
  {
   "cell_type": "code",
   "execution_count": 25,
   "metadata": {},
   "outputs": [
    {
     "data": {
      "image/png": "[encoded data removed]",
      "text/plain": [
       "<Figure size 432x288 with 1 Axes>"
      ]
     },
     "metadata": {
      "needs_background": "light"
     },
     "output_type": "display_data"
    }
   ],
   "source": [
    "fig, ax = plt.subplots(1, 1)\n",
    "\n",
    "ax.hist(invmass, 30, range=[40, 140], label='8eV', edgecolor='black', alpha=1.0)\n",
    "ax.hist(invmass2, 30, range=[40, 140], label='13eV 2lep', edgecolor='black', alpha=0.3)\n",
    "ax.hist(invmass3, 30, range=[40, 140], label='13eV 4lep', edgecolor='black', alpha=0.3)\n",
    "ax.legend(loc='upper right')\n",
    "\n",
    "plt.xlabel('mass [GeV]')\n",
    "plt.ylabel('events')\n",
    "plt.xlim(40, 140)\n",
    "plt.title('Mass of the Z boson')\n",
    "\n",
    "plt.show()"
   ]
  },
  {
   "cell_type": "markdown",
   "metadata": {},
   "source": [
    "Baased on graphs, there are only a few mass can be found in real data, we can have a hypothesis that there is no mass for Z boson, there may be some other matter created causing the detection of mass.\n",
    "\n",
    "Based on graphs of two simulated data, it's obviously another matter is created in 13eV 4lep simulation. There are two peaks. There are also more particles that have mass than 13eV 2lep."
   ]
  }
 ],
 "metadata": {
  "kernelspec": {
   "display_name": "Python 3",
   "language": "python",
   "name": "python3"
  },
  "language_info": {
   "codemirror_mode": {
    "name": "ipython",
    "version": 3
   },
   "file_extension": ".py",
   "mimetype": "text/x-python",
   "name": "python",
   "nbconvert_exporter": "python",
   "pygments_lexer": "ipython3",
   "version": "3.7.4"
  }
 },
 "nbformat": 4,
 "nbformat_minor": 2
}
